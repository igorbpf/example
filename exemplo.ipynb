{
 "cells": [
  {
   "cell_type": "code",
   "execution_count": 1,
   "metadata": {},
   "outputs": [
    {
     "data": {
      "application/vnd.jupyter.widget-view+json": {
       "model_id": "d2a0aca22b6a4aadb206a644291a3bb1",
       "version_major": 2,
       "version_minor": 0
      },
      "text/plain": [
       "VBox()"
      ]
     },
     "metadata": {},
     "output_type": "display_data"
    },
    {
     "name": "stdout",
     "output_type": "stream",
     "text": [
      "Starting Spark application\n"
     ]
    },
    {
     "data": {
      "text/html": [
       "<table>\n",
       "<tr><th>ID</th><th>YARN Application ID</th><th>Kind</th><th>State</th><th>Spark UI</th><th>Driver log</th><th>Current session?</th></tr><tr><td>1</td><td>application_1607488703100_0002</td><td>pyspark</td><td>idle</td><td><a target=\"_blank\" href=\"http://ip-172-31-14-17.ec2.internal:20888/proxy/application_1607488703100_0002/\">Link</a></td><td><a target=\"_blank\" href=\"http://ip-172-31-13-54.ec2.internal:8042/node/containerlogs/container_1607488703100_0002_01_000001/livy\">Link</a></td><td>✔</td></tr></table>"
      ],
      "text/plain": [
       "<IPython.core.display.HTML object>"
      ]
     },
     "metadata": {},
     "output_type": "display_data"
    },
    {
     "data": {
      "application/vnd.jupyter.widget-view+json": {
       "model_id": "",
       "version_major": 2,
       "version_minor": 0
      },
      "text/plain": [
       "FloatProgress(value=0.0, bar_style='info', description='Progress:', layout=Layout(height='25px', width='50%'),…"
      ]
     },
     "metadata": {},
     "output_type": "display_data"
    },
    {
     "name": "stdout",
     "output_type": "stream",
     "text": [
      "SparkSession available as 'spark'.\n"
     ]
    },
    {
     "data": {
      "application/vnd.jupyter.widget-view+json": {
       "model_id": "",
       "version_major": 2,
       "version_minor": 0
      },
      "text/plain": [
       "FloatProgress(value=0.0, bar_style='info', description='Progress:', layout=Layout(height='25px', width='50%'),…"
      ]
     },
     "metadata": {},
     "output_type": "display_data"
    }
   ],
   "source": [
    "from pyspark.sql import SparkSession"
   ]
  },
  {
   "cell_type": "code",
   "execution_count": 2,
   "metadata": {},
   "outputs": [
    {
     "data": {
      "application/vnd.jupyter.widget-view+json": {
       "model_id": "79e9e4da39994e229e333a9142faaedc",
       "version_major": 2,
       "version_minor": 0
      },
      "text/plain": [
       "VBox()"
      ]
     },
     "metadata": {},
     "output_type": "display_data"
    },
    {
     "data": {
      "application/vnd.jupyter.widget-view+json": {
       "model_id": "",
       "version_major": 2,
       "version_minor": 0
      },
      "text/plain": [
       "FloatProgress(value=0.0, bar_style='info', description='Progress:', layout=Layout(height='25px', width='50%'),…"
      ]
     },
     "metadata": {},
     "output_type": "display_data"
    }
   ],
   "source": [
    "spark = SparkSession \\\n",
    "    .builder \\\n",
    "    .appName(\"graph-job\") \\\n",
    "    .config(\"spark.jars.packages\", \"org.apache.hadoop:hadoop-aws:2.10.0\") \\\n",
    "    .config(\"spark.jars.packages\", \"neo4j-contrib:neo4j-connector-apache-spark_2.11:4.0.0\") \\\n",
    "    .config(\"spark.jars.packages\", \"graphframes:graphframes:0.8.1-spark2.4-s_2.11\") \\\n",
    "    .getOrCreate()"
   ]
  },
  {
   "cell_type": "code",
   "execution_count": 3,
   "metadata": {},
   "outputs": [
    {
     "data": {
      "application/vnd.jupyter.widget-view+json": {
       "model_id": "84599483836a48a19c91a883b153db4b",
       "version_major": 2,
       "version_minor": 0
      },
      "text/plain": [
       "VBox()"
      ]
     },
     "metadata": {},
     "output_type": "display_data"
    },
    {
     "data": {
      "application/vnd.jupyter.widget-view+json": {
       "model_id": "",
       "version_major": 2,
       "version_minor": 0
      },
      "text/plain": [
       "FloatProgress(value=0.0, bar_style='info', description='Progress:', layout=Layout(height='25px', width='50%'),…"
      ]
     },
     "metadata": {},
     "output_type": "display_data"
    }
   ],
   "source": [
    "spark.sparkContext.addPyFile(\"/lib/spark/jars/graphframes-0.8.1-spark2.4-s_2.11.jar\")"
   ]
  },
  {
   "cell_type": "code",
   "execution_count": 4,
   "metadata": {},
   "outputs": [
    {
     "data": {
      "application/vnd.jupyter.widget-view+json": {
       "model_id": "1e754344a35247389b3740bb9e0f4424",
       "version_major": 2,
       "version_minor": 0
      },
      "text/plain": [
       "VBox()"
      ]
     },
     "metadata": {},
     "output_type": "display_data"
    },
    {
     "data": {
      "application/vnd.jupyter.widget-view+json": {
       "model_id": "",
       "version_major": 2,
       "version_minor": 0
      },
      "text/plain": [
       "FloatProgress(value=0.0, bar_style='info', description='Progress:', layout=Layout(height='25px', width='50%'),…"
      ]
     },
     "metadata": {},
     "output_type": "display_data"
    }
   ],
   "source": [
    "from graphframes import *"
   ]
  },
  {
   "cell_type": "code",
   "execution_count": 6,
   "metadata": {},
   "outputs": [
    {
     "data": {
      "application/vnd.jupyter.widget-view+json": {
       "model_id": "2a0a1dcc860442a19cb246adf68b9545",
       "version_major": 2,
       "version_minor": 0
      },
      "text/plain": [
       "VBox()"
      ]
     },
     "metadata": {},
     "output_type": "display_data"
    },
    {
     "data": {
      "application/vnd.jupyter.widget-view+json": {
       "model_id": "",
       "version_major": 2,
       "version_minor": 0
      },
      "text/plain": [
       "FloatProgress(value=0.0, bar_style='info', description='Progress:', layout=Layout(height='25px', width='50%'),…"
      ]
     },
     "metadata": {},
     "output_type": "display_data"
    }
   ],
   "source": [
    "df_fundo = spark.read.format(\"org.neo4j.spark.DataSource\") \\\n",
    "    .option(\"url\", url) \\\n",
    "    .option(\"authentication.basic.username\", username) \\\n",
    "    .option(\"authentication.basic.password\", password) \\\n",
    "    .option(\"query\", \"\"\"match (f:Fundo) return ID(f) as id, f.cnpj as cnpj,\n",
    "    f.razao_social as nome, f.classe as classe\"\"\") \\\n",
    "    .load()"
   ]
  },
  {
   "cell_type": "code",
   "execution_count": 8,
   "metadata": {},
   "outputs": [
    {
     "data": {
      "application/vnd.jupyter.widget-view+json": {
       "model_id": "9e8de1d5a4e74a029f66e0cb3f4efadf",
       "version_major": 2,
       "version_minor": 0
      },
      "text/plain": [
       "VBox()"
      ]
     },
     "metadata": {},
     "output_type": "display_data"
    },
    {
     "data": {
      "application/vnd.jupyter.widget-view+json": {
       "model_id": "",
       "version_major": 2,
       "version_minor": 0
      },
      "text/plain": [
       "FloatProgress(value=0.0, bar_style='info', description='Progress:', layout=Layout(height='25px', width='50%'),…"
      ]
     },
     "metadata": {},
     "output_type": "display_data"
    },
    {
     "name": "stdout",
     "output_type": "stream",
     "text": [
      "+---+--------------+--------------------+------------------+\n",
      "| id|          cnpj|                nome|            classe|\n",
      "+---+--------------+--------------------+------------------+\n",
      "|  0|36017639000127|051 7010 FUNDO DE...|Fundo Multimercado|\n",
      "|  1|34172417000153|051 AÇÕES FUNDO D...|    Fundo de Ações|\n",
      "|  2|36016411000112|051 ALLOCATION FI...|Fundo Multimercado|\n",
      "|  3|36498260000186|051 ALOCAÇÃO AÇÕE...|    Fundo de Ações|\n",
      "|  4|36498567000187|051 ALOCAÇÃO MODE...|Fundo Multimercado|\n",
      "|  5|03998582000135|051 BLUE MARLIN F...|Fundo Multimercado|\n",
      "|  6|33913620000170|051 BRUCUTU FUNDO...|Fundo Multimercado|\n",
      "|  7|37428669000199|051 CAJUINA ALPHA...|    Fundo de Ações|\n",
      "|  8|24498658000133|051 CAJUINA FUNDO...|    Fundo de Ações|\n",
      "|  9|31964019000181|051 CAPITAL - COL...|Fundo Multimercado|\n",
      "| 10|30509213000104|051 CARIBE FUNDO ...|Fundo Multimercado|\n",
      "| 11|36248874000100|051 CP ALLOCATION...|Fundo Multimercado|\n",
      "| 12|35820670000139|051 FUTURA FUNDO ...|Fundo Multimercado|\n",
      "| 13|33150563000115|051 HF FUNDO DE I...|Fundo Multimercado|\n",
      "| 14|37750319000144|051 ICATU PREVIDE...|Fundo Multimercado|\n",
      "| 15|37504028000176|051 JIVE III FEED...|Fundo Multimercado|\n",
      "| 16|34706514000189|051 LEGAL CLAIMS ...|Fundo Multimercado|\n",
      "| 17|33146175000160|051 MEGA FI EM CO...|Fundo Multimercado|\n",
      "| 18|30128740000179|051 MHX FUNDO DE ...|Fundo Multimercado|\n",
      "| 19|32683890000170|051 MM HV FUNDO D...|Fundo Multimercado|\n",
      "+---+--------------+--------------------+------------------+\n",
      "only showing top 20 rows"
     ]
    }
   ],
   "source": [
    "df_fundo.show()"
   ]
  },
  {
   "cell_type": "code",
   "execution_count": 15,
   "metadata": {},
   "outputs": [
    {
     "data": {
      "application/vnd.jupyter.widget-view+json": {
       "model_id": "edf76128d6be4c1b9a1d77be2421dc27",
       "version_major": 2,
       "version_minor": 0
      },
      "text/plain": [
       "VBox()"
      ]
     },
     "metadata": {},
     "output_type": "display_data"
    },
    {
     "data": {
      "application/vnd.jupyter.widget-view+json": {
       "model_id": "",
       "version_major": 2,
       "version_minor": 0
      },
      "text/plain": [
       "FloatProgress(value=0.0, bar_style='info', description='Progress:', layout=Layout(height='25px', width='50%'),…"
      ]
     },
     "metadata": {},
     "output_type": "display_data"
    }
   ],
   "source": [
    "df_rel = spark.read.format(\"org.neo4j.spark.DataSource\") \\\n",
    "    .option(\"url\", url) \\\n",
    "    .option(\"authentication.basic.username\", username) \\\n",
    "    .option(\"authentication.basic.password\", password) \\\n",
    "    .option(\"query\", \"\"\"match p=(:Fundo)-[r:COMPRA]->(:Fundo) where r.weight >= 0.03\n",
    "    return ID(startNode(r)) as src, ID(endNode(r)) as dst, r.weight as weight\"\"\") \\\n",
    "    .load()"
   ]
  },
  {
   "cell_type": "code",
   "execution_count": 16,
   "metadata": {},
   "outputs": [
    {
     "data": {
      "application/vnd.jupyter.widget-view+json": {
       "model_id": "af48982ccd2e4f78ba9fcccedae0ebe2",
       "version_major": 2,
       "version_minor": 0
      },
      "text/plain": [
       "VBox()"
      ]
     },
     "metadata": {},
     "output_type": "display_data"
    },
    {
     "data": {
      "application/vnd.jupyter.widget-view+json": {
       "model_id": "",
       "version_major": 2,
       "version_minor": 0
      },
      "text/plain": [
       "FloatProgress(value=0.0, bar_style='info', description='Progress:', layout=Layout(height='25px', width='50%'),…"
      ]
     },
     "metadata": {},
     "output_type": "display_data"
    },
    {
     "name": "stdout",
     "output_type": "stream",
     "text": [
      "+-----+---+--------------------+\n",
      "|  src|dst|              weight|\n",
      "+-----+---+--------------------+\n",
      "|   28|  1| 0.13378761384238716|\n",
      "|   12|  1| 0.15332622558254408|\n",
      "|   26|  1|  0.2927373742531345|\n",
      "|    2|  1| 0.14440720953492098|\n",
      "|    6|  1| 0.10513828752573881|\n",
      "|   23|  1| 0.13938181635551863|\n",
      "|    9|  1| 0.07560055780846033|\n",
      "|   13|  1|  0.1339341628806844|\n",
      "|   10|  1| 0.04055959305931201|\n",
      "|   18|  1| 0.15358691249320475|\n",
      "|   20|  1| 0.07681447425098697|\n",
      "|31764|  1|  0.1922158042668773|\n",
      "|25011|  1|0.049008986712385176|\n",
      "|    5|  1| 0.13164392739110897|\n",
      "|    4|  2|  0.9916931986291865|\n",
      "|   12|  7| 0.11253203972999327|\n",
      "|   28|  7| 0.10797267382376545|\n",
      "|    9|  7| 0.05344233711776862|\n",
      "|    6|  7| 0.04616400601099706|\n",
      "|   18|  7| 0.03286421631140249|\n",
      "+-----+---+--------------------+\n",
      "only showing top 20 rows"
     ]
    }
   ],
   "source": [
    "df_rel.show()"
   ]
  },
  {
   "cell_type": "code",
   "execution_count": 17,
   "metadata": {},
   "outputs": [
    {
     "data": {
      "application/vnd.jupyter.widget-view+json": {
       "model_id": "1ca327929b314468a5822f026fd970b2",
       "version_major": 2,
       "version_minor": 0
      },
      "text/plain": [
       "VBox()"
      ]
     },
     "metadata": {},
     "output_type": "display_data"
    },
    {
     "data": {
      "application/vnd.jupyter.widget-view+json": {
       "model_id": "",
       "version_major": 2,
       "version_minor": 0
      },
      "text/plain": [
       "FloatProgress(value=0.0, bar_style='info', description='Progress:', layout=Layout(height='25px', width='50%'),…"
      ]
     },
     "metadata": {},
     "output_type": "display_data"
    }
   ],
   "source": [
    "g = GraphFrame(df_fundo, df_rel)\n"
   ]
  },
  {
   "cell_type": "code",
   "execution_count": 18,
   "metadata": {},
   "outputs": [
    {
     "data": {
      "application/vnd.jupyter.widget-view+json": {
       "model_id": "fd35ac56ead24e169dba7853a978f7b6",
       "version_major": 2,
       "version_minor": 0
      },
      "text/plain": [
       "VBox()"
      ]
     },
     "metadata": {},
     "output_type": "display_data"
    },
    {
     "data": {
      "application/vnd.jupyter.widget-view+json": {
       "model_id": "",
       "version_major": 2,
       "version_minor": 0
      },
      "text/plain": [
       "FloatProgress(value=0.0, bar_style='info', description='Progress:', layout=Layout(height='25px', width='50%'),…"
      ]
     },
     "metadata": {},
     "output_type": "display_data"
    }
   ],
   "source": [
    "results = g.pageRank(resetProbability=0.01, maxIter=20)"
   ]
  },
  {
   "cell_type": "code",
   "execution_count": 19,
   "metadata": {},
   "outputs": [
    {
     "data": {
      "application/vnd.jupyter.widget-view+json": {
       "model_id": "d0f64f22a9fa420f825c77515ebc34d7",
       "version_major": 2,
       "version_minor": 0
      },
      "text/plain": [
       "VBox()"
      ]
     },
     "metadata": {},
     "output_type": "display_data"
    },
    {
     "data": {
      "application/vnd.jupyter.widget-view+json": {
       "model_id": "",
       "version_major": 2,
       "version_minor": 0
      },
      "text/plain": [
       "FloatProgress(value=0.0, bar_style='info', description='Progress:', layout=Layout(height='25px', width='50%'),…"
      ]
     },
     "metadata": {},
     "output_type": "display_data"
    }
   ],
   "source": [
    "df_page = results.vertices \\\n",
    "    .select(\"id\", \"cnpj\", \"nome\", \"classe\", \"pagerank\") \\\n",
    "    .orderBy(\"pagerank\", ascending=False)"
   ]
  },
  {
   "cell_type": "code",
   "execution_count": 20,
   "metadata": {},
   "outputs": [
    {
     "data": {
      "application/vnd.jupyter.widget-view+json": {
       "model_id": "6ae7926ecc094ea8adfa320b7d040127",
       "version_major": 2,
       "version_minor": 0
      },
      "text/plain": [
       "VBox()"
      ]
     },
     "metadata": {},
     "output_type": "display_data"
    },
    {
     "data": {
      "application/vnd.jupyter.widget-view+json": {
       "model_id": "",
       "version_major": 2,
       "version_minor": 0
      },
      "text/plain": [
       "FloatProgress(value=0.0, bar_style='info', description='Progress:', layout=Layout(height='25px', width='50%'),…"
      ]
     },
     "metadata": {},
     "output_type": "display_data"
    },
    {
     "name": "stdout",
     "output_type": "stream",
     "text": [
      "+-----+--------------+--------------------+-------------------+------------------+\n",
      "|   id|          cnpj|                nome|             classe|          pagerank|\n",
      "+-----+--------------+--------------------+-------------------+------------------+\n",
      "|36774|07455507000189|VERDE MASTER FUND...| Fundo Multimercado|180.63336725639252|\n",
      "|34150|12798221000136|SPX NIMITZ MASTER...| Fundo Multimercado| 158.6373613001634|\n",
      "| 8072|09215250000113|BTG PACTUAL TESOU...|Fundo de Renda Fixa|150.26929647922344|\n",
      "| 4304|08915927000163|BEM FUNDO DE INVE...|Fundo de Renda Fixa|  144.542907610638|\n",
      "|24909|29236556000163|LEGACY CAPITAL MA...| Fundo Multimercado|142.24288330036975|\n",
      "|23509|11419818000160|ITAÚ VERSO A REND...|Fundo de Renda Fixa|116.99989723960562|\n",
      "|24329|12083748000184|KAPITALO MASTER I...| Fundo Multimercado|116.86561700826277|\n",
      "|34166|12808980000132|SPX RAPTOR MASTER...| Fundo Multimercado|101.52921798491579|\n",
      "| 2262|11188572000162|ATMOS MASTER FUND...|     Fundo de Ações| 97.73430467662625|\n",
      "|  461|21470947000136|ABSOLUTE VERTEX M...| Fundo Multimercado| 95.74570859542833|\n",
      "|10812|09329721000114|CSHG DI MASTER FU...|Fundo de Renda Fixa| 87.34437405435817|\n",
      "|34053|01597187000115|SPECIAL RENDA FIX...|Fundo de Renda Fixa| 83.73444483396628|\n",
      "|23943|97548167000123|JGP STRATEGY MAST...| Fundo Multimercado| 81.78096168734466|\n",
      "|23577|21407105000130|ITAÚ VÉRTICE REND...|Fundo de Renda Fixa| 78.84385286535479|\n",
      "|  484|34172637000187|ABSOLUTO PARTNERS...|     Fundo de Ações| 78.82105692159669|\n",
      "|23426|06175696000173|ITAÚ SOBERANO REN...|Fundo de Renda Fixa| 74.44886672814586|\n",
      "|19403|35828652000101|GENOA CAPITAL RAD...| Fundo Multimercado| 71.47038193609254|\n",
      "|31805|10565506000100|SANTANDER CASH BL...|Fundo de Renda Fixa| 69.08269236947378|\n",
      "|31916|07966986000106|SANTANDER FI TÍTU...|Fundo de Renda Fixa| 68.20451647496637|\n",
      "| 5034|17898543000170|BNY MELLON ARX LI...|Fundo de Renda Fixa| 63.20401964013617|\n",
      "+-----+--------------+--------------------+-------------------+------------------+\n",
      "only showing top 20 rows"
     ]
    }
   ],
   "source": [
    "df_page.show()"
   ]
  },
  {
   "cell_type": "code",
   "execution_count": null,
   "metadata": {},
   "outputs": [],
   "source": []
  }
 ],
 "metadata": {
  "kernelspec": {
   "display_name": "PySpark",
   "language": "",
   "name": "pysparkkernel"
  },
  "language_info": {
   "codemirror_mode": {
    "name": "python",
    "version": 2
   },
   "mimetype": "text/x-python",
   "name": "pyspark",
   "pygments_lexer": "python2"
  }
 },
 "nbformat": 4,
 "nbformat_minor": 4
}
